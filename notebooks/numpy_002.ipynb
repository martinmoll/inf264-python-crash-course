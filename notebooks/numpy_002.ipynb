{
 "cells": [
  {
   "attachments": {},
   "cell_type": "markdown",
   "id": "8438279d-5dfb-4808-9552-8e50d506889c",
   "metadata": {},
   "source": [
    "# 2. Indexing NumPy Arrays\n",
    "\n",
    "Similar to Python lists, we can access specific values and parts of NumPy arrays using indexing. Indexing for NumPy arrays is similar to indexing Python lists but more flexible."
   ]
  },
  {
   "cell_type": "code",
   "execution_count": 1,
   "id": "63cd7f7a-120b-48bb-bb69-058a3a693a62",
   "metadata": {},
   "outputs": [],
   "source": [
    "import numpy as np"
   ]
  },
  {
   "cell_type": "markdown",
   "id": "ac95ccd3-4063-4110-949a-cfe46aecbb65",
   "metadata": {},
   "source": [
    "Simple 1-dimensional arrays can be indexed in the same way we index Python lists."
   ]
  },
  {
   "cell_type": "code",
   "execution_count": 2,
   "id": "7180e6ff-958b-47a1-8f4d-b5451b0519b6",
   "metadata": {},
   "outputs": [
    {
     "name": "stdout",
     "output_type": "stream",
     "text": [
      "1\n",
      "3\n",
      "4\n"
     ]
    }
   ],
   "source": [
    "arr = np.array([1, 2, 3, 4])\n",
    "\n",
    "print(arr[0])  # First value\n",
    "print(arr[2])  # Third value\n",
    "print(arr[-1]) # Last value"
   ]
  },
  {
   "attachments": {},
   "cell_type": "markdown",
   "id": "a5202f54-7d71-4b22-82dc-664a2838eb69",
   "metadata": {},
   "source": [
    "We can also use slicing to index a subset of an array by `arr[start : end+1]`. \n",
    "\n",
    "It is also possible to specify the step size by using `arr[start : end+1 : step]`."
   ]
  },
  {
   "cell_type": "code",
   "execution_count": 6,
   "id": "7385e078-5287-489d-846d-2b9d2dd4eca0",
   "metadata": {},
   "outputs": [
    {
     "name": "stdout",
     "output_type": "stream",
     "text": [
      "[1 2 3 4 5 6]\n",
      "[1 2]\n",
      "[1 2]\n",
      "[3 4 5]\n",
      "[3 4 5 6]\n",
      "[6 5 4 3 2 1]\n"
     ]
    }
   ],
   "source": [
    "arr = np.array([1, 2, 3, 4, 5, 6])\n",
    "\n",
    "print(arr)       # Entire array (no indexing)\n",
    "print(arr[0:2])  # First two values (index 0 and 1)\n",
    "print(arr[:2])   # Does the same as above\n",
    "print(arr[2:-1]) # From index 2 to the second last value\n",
    "print(arr[2:])   # Everything starting from index 2\n",
    "print(arr[::-1]) # Reverse array"
   ]
  },
  {
   "attachments": {},
   "cell_type": "markdown",
   "id": "570bdb7c-d6c4-4fa9-ba09-cc9d2bf0c00d",
   "metadata": {},
   "source": [
    "Of course, we also need to index multidimensional NumPy arrays.\n",
    "\n",
    "The syntax is `arr[i_0, i_1, ..., i_n]` where `i_j` is the index for dimension `j`. We can also do slicing in the different dimensions.\n",
    "\n",
    "Here are some examples of indexing a 2-dimensional array."
   ]
  },
  {
   "cell_type": "code",
   "execution_count": 7,
   "id": "c054ddcf-aa31-44fe-a5e1-d7e152062edb",
   "metadata": {},
   "outputs": [
    {
     "name": "stdout",
     "output_type": "stream",
     "text": [
      "[[1 2 3]\n",
      " [4 5 6]\n",
      " [7 8 9]]\n",
      "5\n",
      "[1 2 3]\n",
      "[1 4 7]\n",
      "[[5 6]\n",
      " [8 9]]\n",
      "[[1 3]\n",
      " [7 9]]\n"
     ]
    }
   ],
   "source": [
    "arr = np.array([[1, 2, 3],\n",
    "                [4, 5, 6],\n",
    "                [7, 8, 9]])\n",
    "\n",
    "print(arr)           # Entire array\n",
    "print(arr[1, 1])     # 5 - The middle value at index (1, 1)\n",
    "print(arr[0])        # [1, 2, 3] - First row\n",
    "print(arr[:, 0])     # [1, 4, 7] - First column\n",
    "print(arr[1:, 1:])   # [[5, 6], [8, 9]] - Bottom right 2x2 square submatrix\n",
    "print(arr[::2, ::2]) # [[1, 3], [7, 9]] - Everything but the middle \"cross\" removed (since we skip index 1 in both dimensions using step size 2)"
   ]
  },
  {
   "cell_type": "markdown",
   "id": "b1516c86-cd55-438e-9296-b32f7dbe038e",
   "metadata": {},
   "source": [
    "Here is an example showing how we can modify an array using slicing and indexing."
   ]
  },
  {
   "cell_type": "code",
   "execution_count": 10,
   "id": "db2be293-10e2-4b1c-be17-520d02a2c9d0",
   "metadata": {},
   "outputs": [
    {
     "name": "stdout",
     "output_type": "stream",
     "text": [
      "Original array:\n",
      "[[1 2 3]\n",
      " [4 5 6]\n",
      " [7 8 9]]\n",
      "Modified last column:\n",
      "[[ 1  2 -2]\n",
      " [ 4  5 -3]\n",
      " [ 7  8 -1]]\n",
      "Modified second row:\n",
      "[[ 1  2 -2]\n",
      " [ 0  1  0]\n",
      " [ 7  8 -1]]\n",
      "Modified center value:\n",
      "[[ 1  2 -2]\n",
      " [ 0 42  0]\n",
      " [ 7  8 -1]]\n"
     ]
    }
   ],
   "source": [
    "arr = np.array([[1, 2, 3],\n",
    "                 [4, 5, 6],\n",
    "                 [7, 8, 9]])\n",
    "\n",
    "col = np.array([-2, -3, -1])\n",
    "row = np.array([0, 1, 0])\n",
    "\n",
    "print(\"Original array:\")\n",
    "print(arr)       # Print original array arr\n",
    "\n",
    "print(\"Modified last column:\")\n",
    "arr[:, -1] = col # Replace the last column with the array col\n",
    "print(arr)       # Print the modified array\n",
    "\n",
    "print(\"Modified second row:\")\n",
    "arr[1] = row     # Replace the middle row with the array row\n",
    "print(arr)       # Print the modified array\n",
    "\n",
    "print(\"Modified center value:\")\n",
    "arr[1, 1] = 42   # Replace the middle value at index (1, 1) by 42\n",
    "print(arr)       # Print the modified array"
   ]
  },
  {
   "attachments": {},
   "cell_type": "markdown",
   "id": "751849e7-871d-4ba5-91e9-8687d989c429",
   "metadata": {},
   "source": [
    "#### Conditional Indexing\n",
    "\n",
    "We can also index NumPy arrays using boolean arrays. This is useful when we want to do conditional indexing (for example, if we want all values greater than a certain value).\n",
    "\n",
    "The code cell below finds the indices of all entries in `arr` greater or equal to `16` and then uses this boolean array to extract those entries."
   ]
  },
  {
   "cell_type": "code",
   "execution_count": 8,
   "id": "77cf9a0c-7ce2-4eef-bbf8-f84429a740b7",
   "metadata": {
    "scrolled": true
   },
   "outputs": [
    {
     "name": "stdout",
     "output_type": "stream",
     "text": [
      "[[  1   2   4]\n",
      " [  8  16  32]\n",
      " [ 64 128 256]]\n",
      "[[False False False]\n",
      " [False  True  True]\n",
      " [ True  True  True]]\n",
      "[ 16  32  64 128 256]\n"
     ]
    }
   ],
   "source": [
    "arr = np.array([[1, 2, 4], \n",
    "                [8, 16, 32], \n",
    "                [64, 128, 256]])\n",
    "\n",
    "idxs = (arr >= 16) # Create boolean array based on the condition x >= 16\n",
    "\n",
    "print(arr)         # Print original array\n",
    "print(idxs)        # Print boolean array\n",
    "print(arr[idxs])   # Get only those values x in arr satisfying the condition x >= 16"
   ]
  },
  {
   "cell_type": "markdown",
   "id": "5385d2f4-6a68-4018-a656-b5a81fde6f04",
   "metadata": {},
   "source": [
    "Here is an example showing how we can use conditional indexing to clip the values of an array.\n",
    "\n",
    "By clipping, we mean for each `x` in the array:\n",
    "\n",
    "1. If `x > max_val`, set `x = max_val` and\n",
    "2. if `x < min_val`, set `x = min_val`."
   ]
  },
  {
   "cell_type": "code",
   "execution_count": 9,
   "id": "bb760d41-94ec-4cb2-9dda-dec73c2e7865",
   "metadata": {},
   "outputs": [
    {
     "name": "stdout",
     "output_type": "stream",
     "text": [
      "[-3  4 -1  5  7 12  0 -8  4 -3  1]\n",
      "[-2  4 -1  5  5  5  0 -2  4 -2  1]\n"
     ]
    }
   ],
   "source": [
    "arr = np.array([-3, 4, -1, 5, 7, 12, 0, -8, 4, -3, 1])\n",
    "\n",
    "min_val = -2\n",
    "max_val = 5\n",
    "\n",
    "print(arr) # Print original array\n",
    "\n",
    "# Use boolean indexing to modify values in the array\n",
    "arr[arr < min_val] = min_val\n",
    "arr[arr > max_val] = max_val\n",
    "\n",
    "print(arr) # Print clipped array\n",
    "\n",
    "# NumPy also has a built-in function for this called np.clip()"
   ]
  },
  {
   "cell_type": "markdown",
   "id": "64af61e1-bfd1-449f-9acb-d7e635aaf729",
   "metadata": {},
   "source": [
    "We will look at reduction operations such as `np.sum()` in more detail later. But here is a quick way to count the number of values in an array satisfying some condition."
   ]
  },
  {
   "cell_type": "code",
   "execution_count": 11,
   "id": "ce16696d-c177-4c8a-8c19-0ddf430a6179",
   "metadata": {},
   "outputs": [
    {
     "name": "stdout",
     "output_type": "stream",
     "text": [
      "Ther are 12 values greater than 3 in the array.\n",
      "Ther are 4 ones in the array.\n"
     ]
    }
   ],
   "source": [
    "arr = np.array([6, 4, 5, 1, 7, 3, 5, 8, 9, 0, 2, 3, 1, 1, 2, 4, 7, 8, 9, 2, 1, 5])\n",
    "\n",
    "count_over_3 = np.sum(arr > 3) # NumPy sum function treats True as 1 and False as 0\n",
    "count_1s = np.sum(arr == 1)\n",
    "\n",
    "print(f\"Ther are {count_over_3} values greater than 3 in the array.\")\n",
    "print(f\"Ther are {count_1s} ones in the array.\")"
   ]
  },
  {
   "attachments": {},
   "cell_type": "markdown",
   "id": "b5e75f36-0edd-4545-9511-94bb27712982",
   "metadata": {},
   "source": [
    "### Using `.all()` and `.any()`\n",
    "\n",
    "When you have a boolean NumPy array `arr`, you can use the methods `.all()` and `.any()` to reduce the array to a single boolean variable. \n",
    "\n",
    "The method `.all()` returns the logical AND of all the values in the array. \n",
    "\n",
    "The method `.any()` returns the logical OR. \n",
    "\n",
    "We can also specify which axis we want to take the AND (or OR) along (see example below)."
   ]
  },
  {
   "cell_type": "code",
   "execution_count": null,
   "id": "f9ff5935-47ee-49ce-a95c-2ae3897932e6",
   "metadata": {},
   "outputs": [
    {
     "name": "stdout",
     "output_type": "stream",
     "text": [
      "[[ True False]\n",
      " [ True False]]\n",
      "any() : True\n",
      "all() : False\n",
      "[[ True  True]\n",
      " [ True  True]]\n",
      "any() : True\n",
      "all() : True\n",
      "[[ True False]\n",
      " [ True False]]\n",
      "any(axis=0) : [ True False]\n",
      "any(axis=1) : [ True  True]\n",
      "all(axis=0) : [ True False]\n",
      "all(axis=1) : [False False]\n",
      "[[ True  True]\n",
      " [False False]]\n",
      "all(axis=0).any() : False\n",
      "[[ True False]\n",
      " [ True False]]\n",
      "all(axis=0).any() : True\n"
     ]
    }
   ],
   "source": [
    "# Over all dimensions\n",
    "arr = np.array([[True, False], [True, False]])\n",
    "print(arr)\n",
    "print(f\"any() : {arr.any()}\")\n",
    "print(f\"all() : {arr.all()}\")\n",
    "\n",
    "arr = np.array([[True, True], [True, True]])\n",
    "print(arr)\n",
    "print(f\"any() : {arr.any()}\")\n",
    "print(f\"all() : {arr.all()}\")\n",
    "\n",
    "# Along a given dimension\n",
    "arr = np.array([[True, False], [True, False]])\n",
    "print(arr)\n",
    "print(f\"any(axis=0) : {arr.any(axis=0)}\") # axis=0 applies the any operation to each column. I.e checks if the column contains any true value and returns true. Then moves to next column.\n",
    "print(f\"any(axis=1) : {arr.any(axis=1)}\") # axis=1 applies the any operation to each row. I.e checks if the row contains any true value and returns true. Then moves to down/up to next row.\n",
    "print(f\"all(axis=0) : {arr.all(axis=0)}\")\n",
    "print(f\"all(axis=1) : {arr.all(axis=1)}\")\n",
    "\n",
    "# Combination of all() and any()\n",
    "# Check if there exists at least one column with all values True\n",
    "arr = np.array([[True, True], [False, False]])\n",
    "print(arr)\n",
    "print(f\"all(axis=0).any() : {arr.all(axis=0).any()}\")\n",
    "\n",
    "arr = np.array([[True, False], [True, False]])\n",
    "print(arr)\n",
    "print(f\"all(axis=0).any() : {arr.all(axis=0).any()}\")"
   ]
  },
  {
   "attachments": {},
   "cell_type": "markdown",
   "id": "f7d4e6dc-b2aa-40b4-bbba-224d9323e2fb",
   "metadata": {},
   "source": [
    "## Exercises\n",
    "\n",
    "### 1. Indexing and Slicing a Matrix (2D-array)\n",
    "\n",
    "First, create a NumPy array named `arr` storing the matrix $A=\\begin{pmatrix}1&2&3\\\\4&5&6\\\\7&8&9\\end{pmatrix}$.\n",
    "\n",
    "Then use indexing and slicing to perform the following tasks:\n",
    "\n",
    "1. Store the centre value of $A$, i.e., the value 5 at index $(1,1)$ to a variable named `centre_value`.\n",
    "2. Store the second row of $A$, i.e., the array `[4, 5, 6]`, in a variable named `second_row`.\n",
    "3. Store the last column of $A$, i.e., the array `[3, 6, 9]`, in a variable named `last_column`.\n",
    "4. Store the bottom left $2\\times2$ sub-matrix of $A$, i.e., the array `[[4, 5], [7, 8]]` in a variable named `bottom_left_submatrix`.\n"
   ]
  },
  {
   "cell_type": "code",
   "execution_count": 17,
   "id": "2fa032ee-c834-4912-b942-e3f9ce0b4701",
   "metadata": {},
   "outputs": [
    {
     "name": "stdout",
     "output_type": "stream",
     "text": [
      "5\n",
      "[4 5 6]\n",
      "[3 6 9]\n",
      "[[4 5]\n",
      " [7 8]]\n",
      "All test passed!\n"
     ]
    }
   ],
   "source": [
    "# Your code here\n",
    "arr = np.array([[1, 2, 3],[4, 5, 6],[7, 8, 9]])\n",
    "centre_value = arr[1,1]\n",
    "print(centre_value)\n",
    "second_row = arr[1]\n",
    "print(second_row)\n",
    "last_column = arr[:, -1]\n",
    "print(last_column)\n",
    "bottom_left_submatrix = arr[1:, :2]\n",
    "print(bottom_left_submatrix)\n",
    "\n",
    "\n",
    "# Automatic tests:\n",
    "assert (arr == np.arange(1, 10).reshape(3, 3)).all()\n",
    "assert centre_value == 5\n",
    "assert (second_row == np.array([4, 5, 6])).all()\n",
    "assert (last_column == np.array([3, 6, 9])).all()\n",
    "assert (bottom_left_submatrix == np.array([[4, 5], [7, 8]])).all()\n",
    "print(\"All test passed!\")"
   ]
  },
  {
   "cell_type": "markdown",
   "id": "a2ebc176-62a3-4673-bb3a-c957ee9e2963",
   "metadata": {},
   "source": [
    "### 2. Change Array Content Using Indexing and Slicing\n",
    "\n",
    "You are given a 2-dimensional array `arr` and two 1-dimensional array `new_1` and `new_2`.\n",
    "\n",
    "Your task is to\n",
    "1. Replace the last (third) row of `arr` with `new_1` and print the modified array, and then\n",
    "2. Replace the two first elements of the second column `[2, 5]` with `new_2` and print the modified array.\n",
    "\n",
    "The final modified array should be\n",
    "```\n",
    "[[1 7 3]\n",
    " [4 7 6]\n",
    " [3 2 1]]\n",
    "```"
   ]
  },
  {
   "cell_type": "code",
   "execution_count": null,
   "id": "74603c7b-4331-4608-9bfc-b041442d1a05",
   "metadata": {},
   "outputs": [],
   "source": [
    "arr = np.array([[1, 2, 3],\n",
    "                [4, 5, 6],\n",
    "                [7, 8, 9]])\n",
    "\n",
    "new_1 = np.array([3, 2, 1])\n",
    "new_2 = np.array([7, 7])\n",
    "\n",
    "# Your code here...\n"
   ]
  },
  {
   "attachments": {},
   "cell_type": "markdown",
   "id": "f786f9a7-3ac6-4241-b439-2334d3cd8e42",
   "metadata": {},
   "source": [
    "### 3. Find All Values Over a Given Threshold\n",
    "\n",
    "Write a function `return_values_over_threshold(arr, threshold)` that takes in a NumPy array `arr` and a float `threshold`, and returns a NumPy array containing those values in `arr` *greater than or equal to* `threshold`. \n",
    "\n",
    "For example, if `arr = np.array([1, 2, 3, 4, 2, 1, 3, 6, 2, 1])`, then `return_values_over_threshold(arr, 3)` should return the NumPy array `[3, 4, 3, 6]`.\n",
    "\n",
    "**NB! Do not use any loops for this task.** The function should only be 1-3 lines of code if you use conditional indexing."
   ]
  },
  {
   "cell_type": "code",
   "execution_count": null,
   "id": "0c979a96-472b-44da-9675-201d2bec3acb",
   "metadata": {},
   "outputs": [],
   "source": [
    "def return_values_over_threshold(arr: np.ndarray, threshold: float):\n",
    "    # Your code here...\n",
    "    ...\n",
    "\n",
    "\n",
    "# Automatic tests\n",
    "arr = np.array([-3, 4, -1, 5, 7, 12, 0, -8, 4, -3, 1])\n",
    "threshold = -0.5\n",
    "result = return_values_over_threshold(arr, threshold)\n",
    "assert (result == np.array([4, 5, 7, 12, 0, 4, 1])).all()\n",
    "\n",
    "arr = np.array([[17, 16, 38], [14, 1, 20], [43, 11, 23], [31, 15, 18]])\n",
    "threshold = 16\n",
    "result = return_values_over_threshold(arr, threshold)\n",
    "assert (result == np.array([17, 16, 38, 20, 43, 23, 31, 18])).all()\n",
    "\n",
    "print(\"All test passed!\")"
   ]
  }
 ],
 "metadata": {
  "kernelspec": {
   "display_name": "INF264",
   "language": "python",
   "name": "python3"
  },
  "language_info": {
   "codemirror_mode": {
    "name": "ipython",
    "version": 3
   },
   "file_extension": ".py",
   "mimetype": "text/x-python",
   "name": "python",
   "nbconvert_exporter": "python",
   "pygments_lexer": "ipython3",
   "version": "3.13.5"
  }
 },
 "nbformat": 4,
 "nbformat_minor": 5
}
