{
 "cells": [
  {
   "attachments": {},
   "cell_type": "markdown",
   "id": "78f25620-4d4c-4158-8925-771ae9b3ddba",
   "metadata": {},
   "source": [
    "# 4. Basic Array Operations and Broadcasting"
   ]
  },
  {
   "cell_type": "code",
   "execution_count": null,
   "id": "0b3fd18e-891d-4c8d-befc-f5e35d804e3b",
   "metadata": {},
   "outputs": [],
   "source": [
    "import numpy as np"
   ]
  },
  {
   "attachments": {},
   "cell_type": "markdown",
   "id": "5310df6e-4c63-4292-93f4-7c5d65e839e8",
   "metadata": {},
   "source": [
    "Let us start with the simplest case: Performing mathematical operations between a NumPy array and a scalar is straight-forward."
   ]
  },
  {
   "cell_type": "code",
   "execution_count": null,
   "id": "c3cdcfd6",
   "metadata": {},
   "outputs": [],
   "source": [
    "arr = np.array([[1., 2.], [3., 4.]])\n",
    "print(arr)\n",
    "print(arr * 2)"
   ]
  },
  {
   "cell_type": "markdown",
   "id": "2dcce84d",
   "metadata": {},
   "source": [
    "Here are some additional examples with more operations."
   ]
  },
  {
   "cell_type": "code",
   "execution_count": null,
   "id": "2cffd243-fac6-4d93-b061-2cfd33f4831d",
   "metadata": {},
   "outputs": [],
   "source": [
    "arr = np.array([[1., 2., 3.], [4., 5., 6.]])\n",
    "\n",
    "print(f\"Original:\\n {arr}\")\n",
    "print(f\"Multiply by 2:\\n {2.0 * arr}\") # Multiply all values by 2\n",
    "print(f\"Divide by 10:\\n {arr / 10.0}\") # Divide all values by 10\n",
    "print(f\"Subtract 3:\\n {arr - 3.0}\")    # Subtract 3 from all values in arr\n",
    "print(f\"Add 4:\\n {arr + 4.0}\")         # Add 4 to all values in arr\n",
    "print(f\"Square:\\n {arr ** 2}\")         # Square all values in arr"
   ]
  },
  {
   "attachments": {},
   "cell_type": "markdown",
   "id": "6211b9a5-5fbb-47b1-b4ec-8e60e945facc",
   "metadata": {},
   "source": [
    "If two NumPy arrays are of the **same shape**, we can just as easily perform element-wise operations as follows:"
   ]
  },
  {
   "cell_type": "code",
   "execution_count": null,
   "id": "fab3b8a9-da76-4f5a-bb88-50d62e8b0fe2",
   "metadata": {},
   "outputs": [],
   "source": [
    "arr1 = np.array([[1, 2, 3], [4, 5, 6]])\n",
    "arr2 = np.array([[2, 1,-1], [3,.5, 2]])\n",
    "\n",
    "print(f\"arr1 =\\n{arr1}\")\n",
    "print(f\"arr2 =\\n{arr2}\")\n",
    "\n",
    "print(f\"arr1 + arr2 =\\n{arr1 + arr2}\")  # Element-wise addition\n",
    "print(f\"arr1 - arr2 =\\n{arr1 - arr2}\")  # Element-wise subtraction\n",
    "print(f\"arr1 * arr2 =\\n{arr1 * arr2}\")  # Element-wise multiplication\n",
    "print(f\"arr1 / arr2 =\\n{arr1 / arr2}\")  # Element-wise division\n",
    "print(f\"arr1 ** arr2 =\\n{arr1 ** arr2}\") # Element-wise exponentiation"
   ]
  },
  {
   "attachments": {},
   "cell_type": "markdown",
   "id": "40b5e3db-bd0b-4e2e-8eaa-a7dbad430ad9",
   "metadata": {},
   "source": [
    "Broadcasting allows NumPy to work with arrays of **different shapes** when performing arithmetic operations. The smaller array is \"broadcast\" across the larger array so that they have compatible shapes. This makes many operations much more efficient.\n",
    "\n",
    "**Broadcasting Rules**\n",
    "- Arrays have compatible shapes if the shapes are equal or one of them is 1 (in some dimension).\n",
    "- If the arrays do not have the same number of dimensions, prepend the shape of the smaller array with ones until they have the same number of dimensions.\n",
    "- If any dimension does not match and is not 1, then broadcasting will not work.\n",
    "\n",
    "Operations involving a NumPy array and a scalar is a special case of broadcasting where the scalar (which we can think of as a NumPy array of shape `(1,)`) is broadcast to the same shape as the NumPy array.\n",
    "\n",
    "Here is a more interesting example: If you have a 1D array and a 2D array where the 1D array's shape is compatible with the trailing dimensions of the 2D array, broadcasting will occur."
   ]
  },
  {
   "cell_type": "code",
   "execution_count": null,
   "id": "3c668b97-3ee0-4823-adc0-caa6a94a231d",
   "metadata": {},
   "outputs": [],
   "source": [
    "arr_2d = np.array([[1, 2, 3], [4, 5, 6]])\n",
    "arr_1d = np.array([10, 20, 30])\n",
    "\n",
    "result = arr_2d + arr_1d # This will broadcast arr_1d into [[10, 20, 30], [10, 20, 30]] and then do addition element-wise!\n",
    "\n",
    "print(result)"
   ]
  },
  {
   "attachments": {},
   "cell_type": "markdown",
   "id": "d9399b46-d1d8-4255-9e55-ac1422220e58",
   "metadata": {},
   "source": [
    "Here is another example of broadcasting where we want to multiply the first row of `arr_2d` by $1$ and the second row by $2$."
   ]
  },
  {
   "cell_type": "code",
   "execution_count": null,
   "id": "56c142d5-2b10-48cc-aa65-8262a2014cbd",
   "metadata": {},
   "outputs": [],
   "source": [
    "arr_2d = np.array([[1, 2, 3], [4, 5, 6]])\n",
    "arr_1d = np.array([1, 2])\n",
    "\n",
    "# Reshape arr_1d to (2, 1) to make it compatible\n",
    "arr_1d = arr_1d.reshape(2, 1)\n",
    "\n",
    "result = arr_2d * arr_1d\n",
    "print(result)"
   ]
  },
  {
   "attachments": {},
   "cell_type": "markdown",
   "id": "f10e9a09-7aa8-4da3-95a4-2c3c36c6a990",
   "metadata": {},
   "source": [
    "When broadcasting is not possible, NumPy will raise an error. You will probably encounter this type of error message many times, so here is an example to help you get to know eachother."
   ]
  },
  {
   "cell_type": "code",
   "execution_count": null,
   "id": "24527033-e972-4248-81e0-76b48bc10eaf",
   "metadata": {},
   "outputs": [],
   "source": [
    "arr1 = np.array([[1, 2, 3], [4, 5, 6]])\n",
    "arr2 = np.array([1, 2, 3, 4])\n",
    "\n",
    "try:\n",
    "    result = arr1 + arr2\n",
    "except ValueError as e:\n",
    "    print(f\"Error: {e}\")"
   ]
  },
  {
   "attachments": {},
   "cell_type": "markdown",
   "id": "fbc76a8e-4a82-46ce-aa8f-906c4de205ca",
   "metadata": {},
   "source": [
    "**Summary:** Broadcasting makes it easy to perform operations on arrays of different shapes without having to manually resize them. By following the broadcasting rules, NumPy automatically handles the necessary shape transformations to enable efficient computation."
   ]
  },
  {
   "attachments": {},
   "cell_type": "markdown",
   "id": "3de99e54-23cf-47f8-8e58-355952c2247f",
   "metadata": {},
   "source": [
    "## Exercises\n",
    "\n",
    "### 1. Adding Scalars to Arrays\n",
    "\n",
    "Create a 1D array `arr` with values `[1, 2, 3, 4, 5]`. Add a scalar value `10` to `arr` using broadcasting and print the result.\n",
    "\n",
    "The output should be `[11 12 13 14 15]`."
   ]
  },
  {
   "cell_type": "code",
   "execution_count": null,
   "id": "b891c150-4ead-40a9-960a-59ec0c4e8347",
   "metadata": {},
   "outputs": [],
   "source": [
    "# Your code here\n",
    "arr = ..."
   ]
  },
  {
   "attachments": {},
   "cell_type": "markdown",
   "id": "04d350a2-3c8b-4a9a-ac63-3d1554087c74",
   "metadata": {},
   "source": [
    "### 2. Multiply 1D Arrays of Same Shape\n",
    "\n",
    "Create two 1D arrays `arr1` with values `[1, 2, 3]` and `arr2` with values `[10, 20, 30]`. Multiply `arr1` and `arr2` element-wise and print the result.\n",
    "\n",
    "The output should be `[10 40 90]`."
   ]
  },
  {
   "cell_type": "code",
   "execution_count": null,
   "id": "5fe86bae-20c1-4157-9186-4f7f681715d9",
   "metadata": {},
   "outputs": [],
   "source": [
    "# Your code here\n",
    "arr1 = ...\n",
    "arr2 = ..."
   ]
  },
  {
   "attachments": {},
   "cell_type": "markdown",
   "id": "185d2c70-d28f-4297-af22-36d8a3ce38ad",
   "metadata": {},
   "source": [
    "### 3. Broadcasting with Different Shapes\n",
    "\n",
    "Create a 2D array `arr1` with values `[[1, 2, 3], [4, 5, 6]]` and a 1D array `arr2` with values `[1, 2, 3]`. Add `arr1` and `arr2` and print the result. Try to understand how `arr2` was broadcasted by NumPy.\n",
    "\n",
    "The output should be\n",
    "```\n",
    "[[2 4 6]\n",
    " [5 7 9]]\n",
    " ```"
   ]
  },
  {
   "cell_type": "code",
   "execution_count": null,
   "id": "bdcaee8e-515c-4264-bfe9-593481b8d938",
   "metadata": {},
   "outputs": [],
   "source": [
    "# Your code here\n",
    "arr1 = ...\n",
    "arr2 = ..."
   ]
  },
  {
   "attachments": {},
   "cell_type": "markdown",
   "id": "98848db7-aa1d-4e70-86f6-b376336098ee",
   "metadata": {},
   "source": [
    "### 4. Broadcasting with Different Dimensions\n",
    "\n",
    "Create a 3D array `arr1` with shape `(2, 2, 3)` containing values from 1 to 12 (use `np.arange()` and `arr.reshape()`) and a 1D array `arr2` with values `[1, 2, 3]`. Add `arr1` and `arr2` and print the result. Try to understand how `arr2` was broadcasted by NumPy before the addition took place.\n",
    "\n",
    "The output should be\n",
    "```\n",
    "[[[ 2  4  6]\n",
    "  [ 5  7  9]]\n",
    "\n",
    " [[ 8 10 12]\n",
    "  [11 13 15]]]\n",
    "  ```"
   ]
  },
  {
   "cell_type": "code",
   "execution_count": null,
   "id": "1effbd54-730e-4640-8646-9e0b14792c1e",
   "metadata": {},
   "outputs": [],
   "source": [
    "# Your code here\n",
    "arr1 = ...\n",
    "arr2 = ..."
   ]
  },
  {
   "attachments": {},
   "cell_type": "markdown",
   "id": "cba0cedb-d39d-43c8-8869-25958991ecf3",
   "metadata": {},
   "source": [
    "### 5. Reshaping for Broadcasting\n",
    "\n",
    "Create a 2D array `arr1` with shape `(3, 4)` containing values from 0 to 11 and a 1D array `arr2` with values `[1, 2, 3]`. Reshape `arr2` to be compatible with `arr1` and then add them together. Print the result and try to understand what is going on.\n",
    "\n",
    "The output should be\n",
    "```\n",
    "[[ 1  2  3  4]\n",
    " [ 6  7  8  9]\n",
    " [11 12 13 14]]\n",
    " ```"
   ]
  },
  {
   "cell_type": "code",
   "execution_count": null,
   "id": "7fad260b-b348-4e6a-b255-5d324d7ac9cb",
   "metadata": {},
   "outputs": [],
   "source": [
    "# Your code here\n",
    "arr1 = ...\n",
    "arr2 = ..."
   ]
  },
  {
   "attachments": {},
   "cell_type": "markdown",
   "id": "c60b0351-4f34-4728-b600-229c1d16038a",
   "metadata": {},
   "source": [
    "### 6. Broadcasting with Higher Dimensions\n",
    "\n",
    "Create a 3D array `arr1` with shape `(2, 3, 4)` containing values from 0 to 23 and a 1D array `arr2` with values `[1, 2, 3, 4]`. Add `arr1` and `arr2` and print the result. How did NumPy broadcast `arr2`?\n",
    "\n",
    "The output should be\n",
    "```\n",
    "[[[ 1  3  5  7]\n",
    "  [ 5  7  9 11]\n",
    "  [ 9 11 13 15]]\n",
    "\n",
    " [[13 15 17 19]\n",
    "  [17 19 21 23]\n",
    "  [21 23 25 27]]]\n",
    "  ```"
   ]
  },
  {
   "cell_type": "code",
   "execution_count": null,
   "id": "d6f4b2a8-00b7-4472-a05d-127c825d0a8d",
   "metadata": {},
   "outputs": [],
   "source": [
    "# Your code here\n",
    "arr1 = ...\n",
    "arr2 = ..."
   ]
  }
 ],
 "metadata": {
  "kernelspec": {
   "display_name": "Python 3 (ipykernel)",
   "language": "python",
   "name": "python3"
  },
  "language_info": {
   "codemirror_mode": {
    "name": "ipython",
    "version": 3
   },
   "file_extension": ".py",
   "mimetype": "text/x-python",
   "name": "python",
   "nbconvert_exporter": "python",
   "pygments_lexer": "ipython3",
   "version": "3.12.3"
  }
 },
 "nbformat": 4,
 "nbformat_minor": 5
}
